{
 "cells": [
  {
   "cell_type": "markdown",
   "metadata": {},
   "source": [
    "# Spaceship titanic Model"
   ]
  },
  {
   "cell_type": "code",
   "execution_count": 243,
   "metadata": {},
   "outputs": [],
   "source": [
    "import numpy as np\n",
    "import pandas as pd"
   ]
  },
  {
   "cell_type": "markdown",
   "metadata": {},
   "source": [
    "## 1. Load data"
   ]
  },
  {
   "cell_type": "code",
   "execution_count": 244,
   "metadata": {},
   "outputs": [
    {
     "data": {
      "text/plain": [
       "(8693, 14)"
      ]
     },
     "execution_count": 244,
     "metadata": {},
     "output_type": "execute_result"
    }
   ],
   "source": [
    "data = pd.read_csv('datasets/spaceship-titanic/train.csv')\n",
    "data.shape"
   ]
  },
  {
   "cell_type": "markdown",
   "metadata": {},
   "source": [
    "## 2. Functions definition"
   ]
  },
  {
   "cell_type": "code",
   "execution_count": 245,
   "metadata": {},
   "outputs": [],
   "source": [
    "def clean_data(data):\n",
    "  df = data.drop(['Name'], axis=1)\n",
    "  df = df.dropna()\n",
    "  df = df.convert_dtypes()\n",
    "  df = df.reset_index()\n",
    "  df = df.drop(['index'], axis=1)\n",
    "\n",
    "  # --- VARIABLES ---\n",
    "  columns = list(df.columns)\n",
    "\n",
    "  # --- CONVERT BOOLEAN COLUMNS TO INT ---\n",
    "  for col in columns:\n",
    "    if str(df[col].dtype) == 'boolean':\n",
    "      df[col] = df[col].astype(int)\n",
    "  \n",
    "  # --- DECOMPOSE COMPOSE COLUMNS (PassengerId, Cabin) ---\n",
    "  new_df = pd.DataFrame()\n",
    "  for col in columns:\n",
    "    if col == 'PassengerId':\n",
    "      group_ids = []\n",
    "      numbers   = []\n",
    "    \n",
    "      tmp = list(df[col])\n",
    "\n",
    "      for id in tmp:\n",
    "        group, number = id.split(\"_\")\n",
    "        group_ids.append(int(group))\n",
    "        numbers.append(int(number))\n",
    "\n",
    "      new_df['Group']  = group_ids\n",
    "      new_df['Number'] = numbers\n",
    "\n",
    "    elif col == 'Cabin':\n",
    "      decks = []\n",
    "      nums  = []\n",
    "      sides = []\n",
    "\n",
    "      for place in list(df[col]):\n",
    "        deck, num, side = place.split(\"/\")\n",
    "        decks.append(deck)\n",
    "        nums.append(int(num))\n",
    "        sides.append(side)\n",
    "      new_df['Deck']  = decks\n",
    "      new_df['Num']   = nums\n",
    "      new_df['Side']  = sides\n",
    "    \n",
    "    else:\n",
    "      new_df[col] = df[col]\n",
    "  df = new_df\n",
    "\n",
    "  # --- CONVERT STRING COLUMNS TO INT ---\n",
    "  decks_map = {}\n",
    "  decks     = list(df.Deck.unique())\n",
    "  for i in range(len(decks)):\n",
    "    decks_map[decks[i]] = i\n",
    "    \n",
    "  destinations = {'TRAPPIST-1e': 0, 'PSO J318.5-22': 1, '55 Cancri e': 2}\n",
    "  home_planet  = {'Europa': 0, 'Earth': 1, 'Mars': 2}\n",
    "  sides        = {'P': 0, 'S': 1}\n",
    "\n",
    "  df.Destination = df.Destination.map(destinations)\n",
    "  df.HomePlanet  = df.HomePlanet.map(home_planet)\n",
    "  df.Side        = df.Side.map(sides)\n",
    "  df.Deck        = df.Deck.map(decks_map)\n",
    "  df             = df.convert_dtypes()\n",
    "\n",
    "  return df"
   ]
  },
  {
   "cell_type": "code",
   "execution_count": 246,
   "metadata": {},
   "outputs": [],
   "source": [
    "def univaraite_selection(df, n, verbose=False):\n",
    "  from sklearn.feature_selection import SelectKBest\n",
    "  from sklearn.feature_selection import chi2\n",
    "\n",
    "  features = len(list(df.columns))\n",
    "\n",
    "  X = df.iloc[:,0:(features-1)]\n",
    "  y = df.iloc[:,-1]\n",
    "  y = y.astype('int')\n",
    "\n",
    "  bestfeatures  = SelectKBest(score_func=chi2, k=10)\n",
    "  fit           = bestfeatures.fit(X, y)\n",
    "  dfscores      = pd.DataFrame(fit.scores_)\n",
    "  dfcolumns     = pd.DataFrame(X.columns)\n",
    "  featureScores = pd.concat([dfcolumns, dfscores], axis=1)\n",
    "  featureScores.columns = ['Specs', 'Score']\n",
    "\n",
    "  if verbose:\n",
    "    display(featureScores)\n",
    "\n",
    "    print(n, \" best features\")\n",
    "    print(\"================\")\n",
    "    print(featureScores.nlargest(n, 'Score'))\n",
    "\n",
    "  return list(featureScores.nlargest(n, 'Score')['Specs'])"
   ]
  },
  {
   "cell_type": "code",
   "execution_count": 247,
   "metadata": {},
   "outputs": [],
   "source": [
    "def feature_importance(df, n, verbose=False):\n",
    "  from sklearn.ensemble import ExtraTreesClassifier\n",
    "  import matplotlib.pyplot as plt\n",
    "  \n",
    "  features = len(list(df.columns))\n",
    "\n",
    "  X = df.iloc[:,0:(features-1)]\n",
    "  y = df.iloc[:,-1]\n",
    "  y = y.astype('int')\n",
    "\n",
    "  model = ExtraTreesClassifier()\n",
    "  model.fit(X, y)\n",
    "\n",
    "  feat_importances = pd.Series(model.feature_importances_, index=X.columns)\n",
    "\n",
    "  if verbose:\n",
    "    feat_importances.nlargest(n).plot(kind='barh')\n",
    "    plt.show()\n",
    "\n",
    "  return list(feat_importances.nlargest(n).index)"
   ]
  },
  {
   "cell_type": "markdown",
   "metadata": {},
   "source": [
    "## 3. Clean data and select features"
   ]
  },
  {
   "cell_type": "code",
   "execution_count": 248,
   "metadata": {},
   "outputs": [],
   "source": [
    "df       = clean_data(data)\n",
    "features = feature_importance(df, 3)\n",
    "dataset  = df[features + ['Transported']]"
   ]
  },
  {
   "cell_type": "markdown",
   "metadata": {},
   "source": [
    "## 4. Split data into (x_train, y_train) and (x_test, y_test) and normalization"
   ]
  },
  {
   "cell_type": "code",
   "execution_count": 249,
   "metadata": {},
   "outputs": [
    {
     "name": "stdout",
     "output_type": "stream",
     "text": [
      "x_train shape:  (4735, 3)\n",
      "y_train shape:  (4735, 1)\n",
      "x_test shape:  (2029, 3)\n",
      "y_test shape:  (2029, 1)\n"
     ]
    }
   ],
   "source": [
    "data_train = dataset.sample(frac=0.7, axis=0)\n",
    "data_test  = dataset.drop(data_train.index)\n",
    "\n",
    "x_train    = data_train.drop('Transported', axis=1)\n",
    "y_train    = data_train['Transported']\n",
    "x_test     = data_test.drop('Transported', axis=1)\n",
    "y_test     = data_test['Transported']\n",
    "\n",
    "\n",
    "mean    = x_train.mean()\n",
    "std     = x_train.std()\n",
    "x_train = (x_train - mean) / std\n",
    "x_test  = (x_test  - mean) / std\n",
    "\n",
    "x_train = np.array(x_train).astype(float)\n",
    "y_train = np.array(y_train).reshape(-1, 1).astype(float)\n",
    "x_test  = np.array(x_test).astype(float)\n",
    "y_test  = np.array(y_test).reshape(-1, 1).astype(float)\n",
    "\n",
    "print(\"x_train shape: \", x_train.shape)\n",
    "print(\"y_train shape: \", y_train.shape)\n",
    "print(\"x_test shape: \", x_test.shape)\n",
    "print(\"y_test shape: \", y_test.shape)"
   ]
  },
  {
   "cell_type": "markdown",
   "metadata": {},
   "source": [
    "## 5. Build the model"
   ]
  },
  {
   "cell_type": "code",
   "execution_count": 250,
   "metadata": {},
   "outputs": [],
   "source": [
    "from uzapy.architecture.dnn import DNN\n",
    "\n",
    "\n",
    "def build_model(input_size):\n",
    "  model = DNN(input_size)\n",
    "\n",
    "  model.add(50, activation='sigmoid')\n",
    "  model.add(20, activation='sigmoid')\n",
    "  model.add(10, activation='sigmoid')\n",
    "  model.add(1, activation='sigmoid')\n",
    "  \n",
    "  model.compile('binary_crossentropy', 'adam', ['accuracy'])\n",
    "\n",
    "  return model\n",
    "\n",
    "model = build_model(x_train.shape[1])"
   ]
  },
  {
   "cell_type": "markdown",
   "metadata": {},
   "source": [
    "## 6. Train the model"
   ]
  },
  {
   "cell_type": "code",
   "execution_count": 251,
   "metadata": {},
   "outputs": [
    {
     "name": "stderr",
     "output_type": "stream",
     "text": [
      "100%|██████████| 60/60 [00:06<00:00,  8.58it/s]\n"
     ]
    },
    {
     "data": {
      "image/png": "[encoded data removed]",
      "text/plain": [
       "<Figure size 432x288 with 1 Axes>"
      ]
     },
     "metadata": {
      "needs_background": "light"
     },
     "output_type": "display_data"
    },
    {
     "data": {
      "image/png": "[encoded data removed]",
      "text/plain": [
       "<Figure size 432x288 with 1 Axes>"
      ]
     },
     "metadata": {
      "needs_background": "light"
     },
     "output_type": "display_data"
    },
    {
     "name": "stdout",
     "output_type": "stream",
     "text": [
      "train accuracy:  0.7301\n",
      "test  accuracy :  0.72449\n"
     ]
    }
   ],
   "source": [
    "model.train((x_train.T, y_train.T), (x_test.T, y_test.T), lr=0.001, batch_size=600, shuffle=True, epoch=60, verbose=False)\n",
    "model.plot_history('cost', lloc='up')\n",
    "model.plot_history('accuracy', lloc='down')\n",
    "model.performance()"
   ]
  },
  {
   "cell_type": "markdown",
   "metadata": {},
   "source": [
    "## 7. Load and clean validation data"
   ]
  },
  {
   "cell_type": "code",
   "execution_count": 252,
   "metadata": {},
   "outputs": [],
   "source": [
    "val_data = pd.read_csv('datasets/spaceship-titanic/test.csv')\n",
    "for col in list(val_data.columns):\n",
    "  val_data[col] = val_data[col].fillna(val_data[col].mode()[0])\n",
    "val_df = clean_data(val_data)"
   ]
  },
  {
   "cell_type": "code",
   "execution_count": 253,
   "metadata": {},
   "outputs": [],
   "source": [
    "val_dataset = val_df[features]"
   ]
  },
  {
   "cell_type": "code",
   "execution_count": 254,
   "metadata": {},
   "outputs": [],
   "source": [
    "X = np.array(val_dataset).astype(float)\n",
    "X = (X - X.mean()) / X.std()"
   ]
  },
  {
   "cell_type": "code",
   "execution_count": 255,
   "metadata": {},
   "outputs": [],
   "source": [
    "predictions = model.predict(X.T)"
   ]
  },
  {
   "cell_type": "code",
   "execution_count": 256,
   "metadata": {},
   "outputs": [],
   "source": [
    "results = {\n",
    "  'PassengerId': [], \n",
    "  'Transported': []\n",
    "}\n",
    "ids = list(val_data['PassengerId'])\n",
    "for idx in range(len(ids)):\n",
    "  y_pred = False if predictions[0][idx] < 0.5 else True\n",
    "  results['PassengerId'].append(ids[idx])\n",
    "  results['Transported'].append(y_pred)\n",
    "\n",
    "tmp = pd.DataFrame.from_dict(results)"
   ]
  },
  {
   "cell_type": "code",
   "execution_count": null,
   "metadata": {},
   "outputs": [],
   "source": [
    "tmp.to_csv('space_titanic_predictions.csv', index=False)"
   ]
  }
 ],
 "metadata": {
  "kernelspec": {
   "display_name": "Python 3.10.2 64-bit",
   "language": "python",
   "name": "python3"
  },
  "language_info": {
   "codemirror_mode": {
    "name": "ipython",
    "version": 3
   },
   "file_extension": ".py",
   "mimetype": "text/x-python",
   "name": "python",
   "nbconvert_exporter": "python",
   "pygments_lexer": "ipython3",
   "version": "3.10.2"
  },
  "orig_nbformat": 4,
  "vscode": {
   "interpreter": {
    "hash": "26de051ba29f2982a8de78e945f0abaf191376122a1563185a90213a26c5da77"
   }
  }
 },
 "nbformat": 4,
 "nbformat_minor": 2
}
